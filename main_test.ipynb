{
 "metadata": {
  "language_info": {
   "codemirror_mode": {
    "name": "ipython",
    "version": 3
   },
   "file_extension": ".py",
   "mimetype": "text/x-python",
   "name": "python",
   "nbconvert_exporter": "python",
   "pygments_lexer": "ipython3",
   "version": "3.9.1-final"
  },
  "orig_nbformat": 2,
  "kernelspec": {
   "name": "recommeddit",
   "display_name": "recommeddit",
   "language": "python"
  }
 },
 "nbformat": 4,
 "nbformat_minor": 2,
 "cells": [
  {
   "cell_type": "code",
   "execution_count": 20,
   "metadata": {},
   "outputs": [
    {
     "output_type": "stream",
     "name": "stdout",
     "text": [
      "The autoreload extension is already loaded. To reload it, use:\n  %reload_ext autoreload\n"
     ]
    }
   ],
   "source": [
    "import sys\n",
    "import search\n",
    "import comments\n",
    "import markdown_to_plaintext\n",
    "import MonkeyLearnProductSentiment\n",
    "import pandas as pd\n",
    "\n",
    "%load_ext autoreload\n",
    "%autoreload 2"
   ]
  },
  {
   "cell_type": "code",
   "execution_count": 21,
   "metadata": {},
   "outputs": [],
   "source": [
    "query = \"C++ IDE\""
   ]
  },
  {
   "cell_type": "code",
   "execution_count": 22,
   "metadata": {},
   "outputs": [
    {
     "output_type": "stream",
     "name": "stdout",
     "text": [
      "https://www.reddit.com/r/cpp/comments/4a8mnw/whats_the_most_recommended_c_ide_to_use/\nhttps://www.reddit.com/r/cpp/comments/7ydk8y/bestworst_c_ide_you_have_ever_used/\nhttps://www.reddit.com/r/learnprogramming/comments/83z1ww/best_c_ide_and_compiler/\nhttps://www.reddit.com/r/cpp/comments/7ve6x2/what_ide_do_you_use_for_cc_development/\nhttps://www.reddit.com/r/Cplusplus/comments/dzi8sa/recommended_c_ide_for_someone_learning_how_to_use/\nhttps://www.reddit.com/r/cpp/comments/cbtjtc/which_ide_for_c_would_you_recommend_for_beginners/\nhttps://www.reddit.com/r/cpp/comments/8mk8ku/c_ide/\nhttps://www.reddit.com/r/cpp_questions/comments/4355py/your_favorite_c_ide/\nhttps://www.reddit.com/r/cpp_questions/comments/f1vjig/best_c_compiler_for_complete_beginner/\nhttps://www.reddit.com/r/cpp/comments/9iek9e/i_need_an_honest_opinion_on_c_ides_for_linux/\n['https://www.reddit.com/r/cpp/comments/4a8mnw/whats_the_most_recommended_c_ide_to_use/', 'https://www.reddit.com/r/cpp/comments/7ydk8y/bestworst_c_ide_you_have_ever_used/', 'https://www.reddit.com/r/learnprogramming/comments/83z1ww/best_c_ide_and_compiler/', 'https://www.reddit.com/r/cpp/comments/7ve6x2/what_ide_do_you_use_for_cc_development/', 'https://www.reddit.com/r/Cplusplus/comments/dzi8sa/recommended_c_ide_for_someone_learning_how_to_use/', 'https://www.reddit.com/r/cpp/comments/cbtjtc/which_ide_for_c_would_you_recommend_for_beginners/', 'https://www.reddit.com/r/cpp/comments/8mk8ku/c_ide/', 'https://www.reddit.com/r/cpp_questions/comments/4355py/your_favorite_c_ide/', 'https://www.reddit.com/r/cpp_questions/comments/f1vjig/best_c_compiler_for_complete_beginner/', 'https://www.reddit.com/r/cpp/comments/9iek9e/i_need_an_honest_opinion_on_c_ides_for_linux/']\n"
     ]
    }
   ],
   "source": [
    "# search google reddit.com CSE for \"best <query name>\"\n",
    "reddit_urls = search.returnlinks(query)\n",
    "print(reddit_urls)"
   ]
  },
  {
   "cell_type": "code",
   "execution_count": 23,
   "metadata": {},
   "outputs": [
    {
     "output_type": "stream",
     "name": "stdout",
     "text": [
      "User: None\n"
     ]
    }
   ],
   "source": [
    "# resolve reddit URLs to comments\n",
    "reddit = comments.connect()\n",
    "reddit_post_comments = []\n",
    "for reddit_url in reddit_urls:\n",
    "    reddit_post_comments.append(comments.get_comments(reddit, reddit_url))"
   ]
  },
  {
   "cell_type": "code",
   "execution_count": 24,
   "metadata": {},
   "outputs": [],
   "source": [
    "# flatten list of lists of comments\n",
    "all_comments = [item for sublist in reddit_post_comments for item in sublist]"
   ]
  },
  {
   "cell_type": "code",
   "execution_count": 25,
   "metadata": {},
   "outputs": [],
   "source": [
    "# get keys of all_comments\n",
    "all_comments = [*all_comments]"
   ]
  },
  {
   "cell_type": "code",
   "execution_count": 26,
   "metadata": {},
   "outputs": [
    {
     "output_type": "stream",
     "name": "stdout",
     "text": [
      "Vim.\n"
     ]
    }
   ],
   "source": [
    "print(all_comments[3])"
   ]
  },
  {
   "cell_type": "code",
   "execution_count": 27,
   "metadata": {},
   "outputs": [],
   "source": [
    "# convert from markdown to plaintext\n",
    "all_comments = [markdown_to_plaintext.unmark(comment) for comment in all_comments]"
   ]
  },
  {
   "cell_type": "code",
   "execution_count": 28,
   "metadata": {
    "tags": [
     "outputPrepend"
    ]
   },
   "outputs": [
    {
     "output_type": "stream",
     "name": "stdout",
     "text": [
      "ike an application that tries to be its own window manager?!\n\nTaking Kdevelop as an example, you can detach all parts of it. It also starts in KDE so make of that what you will xD\n\nNot to mention that I don't need all that \"info\", it just takes screen space \n\nThen maybe, just maybe use a fraction of the time needed to add plugins to vim to just remove toolviews from the IDE you dont want to see? I fully agree its stupid every editor has a big fat \"Save\" button in the toolbar, but that doesnt stop me from just removing it.\n\nBottom line, I don't think that an IDE offers anything except a menu and other clickable things to \"configure\" your project (Aka a GUI)\n\nAgain, which the exception of VS and their solution files (and i guess there is a way to use these without VS), there the build system/project configuration has not much to do with your IDE. I can setup a CMake project and use it without KDevelop/CLion/VSCode/... But i can also import the project into my IDE and have all the features ^TM without any setup required.\n---\nSo in the end we are around at not starting out with command line editors, because those would add a step to the learning curve that just doesnt need to be exactly there.\nSure its not hard and all, but its completly alien to anyone born after 1980. Especially when OP mentions word pad as a reference.\n---\nAh that way, welp the guy asked for it. Good to hear it's not anything else weird within the ide, but I'll look for other options!\n---\nI once opened a file in vim. Couldn't figure out how to exit out of it for 30 minutes.\n---\nAt the end, I landed on it depends. And my big caveat was that if you want a job, you should learn CLI. Hardly the same landing spots. Also, I was born after 1980.\n---\nThe only reason I’ve ever used vim is because it’s the default editor that git shoves you into if you forget a commit message or have to resolve merge conflicts. I have to look up how to get out of it every single time.\n---\nrofl\n---\nI never said you shouldnt learn command line, or at least i hope i didnt. You most definitely should. Knowing the basics of a command line editor would be included in this. My point is that starting out in one makes everything harder than it really has to be.\n---\nqtcreator\n---\nemacs does everything I need in an programming editor.\n---\nI really like KDevelop. Nothing beats it's highlighting and integration with CMake. I recently had some problem with it (due to a crash in clang) but otherwise it's a great ide.\nI also tried QtCreator, which also have a great integration with CMake and it's recent integration with clang makes it even better (but suffers from the same clang crash).\nThat said, I've been told that as a power user, a good vim setup with the right plugins is hard to beat.\nEdit: typo\n---\nI've been using CLion for the past 6 months or so. It requires a license and it's early days, so there are bugs. But it functions very similarly to IntelliJ which is hands down the best Java IDE on the market.\n---\nVS Code is fantastic.\n---\n+1 Clion.\n---\nI used to use Clion. It is good but it is not free for commercial and the licensing is yearly basis. Move to Qt Creator. Its free with decent tools and finctionalities.\n---\nCodeLite is an actively maintained and feature-rich C++ IDE. It's similar to Code::Blocks but easier to use and works better out-of-the-box. I used to use it for my C++ development but moved to VS Code with mixed success. I strongly recommend checking out both CodeLite and (for a less visual-oriented IDE) VS Code.\n---\nMy recommendation - CLion. Its paid but if you are investing a lot of time developing in C++ on Linux then its worth it.\n---\nAs already suggested, give VScode a try. It's pretty much Atom but more stable. I only used Atom for about 5 months last year and it felt like in pre-alpha, although it had a lot of potential.\nAtom used to crash when opening large projects, as well as when adding some plugins. I think VScode have never crashed yet and I've been using it for about 10 months. I've even changed Notepad++ by VScode in Windows.\nWhat I love about both Atom and VScode is the versatility they have adding plugins. You can configure them as whatever you want much easier than in classic IDEs (I've never tried CLion but people say it's awesome).\nVScode is greatly integrate with Git, for example. And you want to edit some extra Python files? Just add 1 extension and quickly reload it to have syntax highlighting/error checking for Python.\nBesides that (completely personal preference), I find the GUI very comfortable and really 21st Century, not like Eclipse for example.\nThe only thing I miss is more easiness in indexing files, although I have to admit that working with embedded I had terrible times configuring Eclipse in the past as well, and I blame the project structure more than the IDE in this particular case.\n---\nIf you are looking for the best out-of-the-box experience, without any configuration necessary: CLion.\nIf you are willing to google a bit and install a couple of plugins and edit 1-2 config settings, then VSCode is a really good option too.\n---\nThere are some options today, and you will get at least these, but even more suggestions:\n\nQt creator\nCLion\neclipse CDT\nKDevelop\nVS Code with the C++ addon\n\nYou can try them all, a subset, or pick one and stuck with it, that's up to you\n&#x200B;\n---\nYou can pry Kdevelop from my cold dead hands. What a fantastic piece of software. CMake and gdb integration are just perfect, I've used it for years and do not really miss anything.\nBefore this, I used Qtcreator and that is a very comparable package. I prefer Kdev because it integrates well with KDE which is my DE, and I don't use Qt libs nor make Qt guis (when I do, I'll check it out again).\nQuite frankly, I think Kdevelop is not very well known and quite underrated.\n---\nHey man you might want to give Emacs a try. It has a steep learning curve, but it's something worth mastering. By that I mean you will be much more productive and will learn a lot more. Also vim is a good substitute, but Emacs is in my heart. There are a lot of tutorials all over the internet how to integrate Emacs with cmake and many other things to make your life easy. \nHappy hacking!\n---\neclipse is very nice imo.\n---\nEclipse CDT\n---\nYou might want to try the lightweight C++ IDE juCi++. It is also one of the few IDE's that is written in newer C++.\n---\nI would recommend trying VSCode with cquery or ccls\n---\nFor C++ look hard at Qt Creator (and I say that as a VS Code fanboy for non-C++ work).\nIt’s very subjective, though. VS Code, CLion, Qt Creator, Emacs ... try them all, pick the one that feels comfortable.\n---\nNothing could beat Clion now. Otherwise invest your time in learning Emacs - be warned it is a life-long investment.\n---\nvscode + cquery\n---\nI used NetBeans and Eclipse. There's also Cevelop, build on eclipse (https://cevelop.com/)\n---\ncquery, a language server for C++ offers advanced IDE functionality to any editor that speaks its protocol. Many editors have plugins for it: emacs, VSCode, vim... I use kakoune myself.\n---\nI also use atom/terminal.  What's missing from it?\n---\nIf you are using cmake, ive found vscode to actually be an excellent c++ ide on linux\n---\nWell to start out with there is one I can safely say you need to stay away form and that is Eclipse.   Eclipse consistently breaks itself and has done so for me on Linux, Mac OS and Windows.\nYou may already be past this level but it never hurts to learn to program using the command line and a text editor like VIM.  \nAs for IDE's and more advance editors you actually have many choices out there.  Examples:\nGeany\nAnjuta\nCode::Blocks\nEMACS\nSciTE\nThese are not mentioned extensively here but worth your consideration.   \nI should note that many of the free IDE's or advanced editors out there are very buggy in my opinion.   If you want reliability turn to software that has been around for awhile such as EMACS.\n---\nI really like SlickEdit IDE. It is very zippy especially with large projects (30000+ files) where I found using Eclipse was very slow. It does code indexing very quickly and I find it very easy to use and intuitive. And whenever have any questions about it the forum is monitored by the developers/enthusiastic users and they are very responsive.\n---\nCheck out Visual Studio Code\n---\ncodeblocks with the plugins package\n---\nVisual Studio 2017 remote development\\debug\\compilation\n---\nAtom, afaik, isn't an ide, it's just a very nice text editor with more tools\nTry codeblocks or Eclipse, I'm loving em\n---\nalso, don't use the QtCreator version in the ubuntu repos. Even in the latest Ubuntu releases it is fairly outdated. Use the official Qt packages instead : https://www1.qt.io/offline-installers/#section-11\n---\nSame here. I haven't found another editor that's as fast, has the features I want and also allows me to disable features that I find annoying. I have a customized .emacs file I've been carrying around with me since the mid-90's. There's surprisingly little in there, though. Mostly just a function to do vi-style paran matching in the editor buffer. I've used a lot of editors over the years, with my two favorites still being emacs and vi.\n---\nmy problem with emacs is that you can program it. \"I'll automate this with just a bit of this elisp\". A week later I get back to what I was working on :)\n&#x200B;\nfwiw, I've been using it since the 80s. It's very useful and flexible.\n---\nemacs can turn off those attached to mouse interaction and those who want a ready, out-of-the-box experience.\nThat said, after putting in the time to learn it and customize it, it allows you to run circles around VS Code, QtCreator, etc..  \nFor intellisense look at cquery or ccls (forked):\nhttps://github.com/cquery-project/cquery\nhttps://github.com/MaskRay/ccls\n---\nBut op is looking for an IDE. Can you debug with emacs? Editing is only half of the job...\n---\n[deleted]\n---\nFellow KDevelop user. Both at home for Python and at work for C++.\nUnfortunately clang seems to crash on our source files in any version above 5.2.0 for some reason (but only when running the appimage). I really want to upgrade though.\n---\nCould you elaborate on the vim setup? I’ve never heard of that term\n---\nI love KDevelop with its great array of plugins to help with productivity and catching bugs early on. One problem I have with it is the dark theme isn't the best and that there aren't a lot to pick from. It's low priority issue but I hope it gets fixed eventually.\n---\nHonestly, vim is not great compared to qtcreator. YCM requires generation of an extra configuration file to work correctly with headers as the compilation database is not sufficient, and you need a different tool like rtags to be able to follow links. Rtags can be restrictively slow on larger codebases though as it takes hours to index all the files. Clangd based plugins also rely on the compilation database which makes it unsuitable for jumping between header/source and interpreting headers in general. Qtcreator's interaction with cmake server mode and the clang code model make it more reliable than any vim plugin. The only advantage of vim is the key bindings which almost every IDE and code editor supports nowadays anyway.\n---\nWhat sort of cmake integration does it have?\n---\nCLion was going to be my recommendation. It has native integration with CMake which it uses for it's code completion. I've only made small networking projects using it but JetBrains git features are a godsend for simplifying the VCS model. It's worth noting I also use a Vim plugin on CLion/PyCharm/IntelliJ which is absolutely fantastic.\nCLion is, as mentioned, a licensed product but it's free for hobbists.\n---\nI use Clion because I have an open source jetbrains license and I'm used to intellij and pycharm\n---\nI recently decided to give VS Code a chance. I find it less user friendly than other IDEs I've tried such as Eclipse or QTCreator.  Also not a fan of their \"tasks\" system.\n---\nI really love VSCode.\nI've been using it from the beginning and the tooling has become so much better.\nThe CMake plugin (props to /u/vector-of-bool) has really matured and from my point of view covers most use cases.\ncpptools plugin was a little hard to configure in the beginning, but now works very well and integrates nicely with the CMake plugin. Sometimes I have some performance issues with intellisense though (but that's on my VM).\nWorks even nice with SCL environments on RedHat/CentOS.\n---\nI've tried a few VS Code versions in the last couple of years and never managed to get the C++ plugins working, always had some issues with code navigation or bogus compile errors.\n---\nI know this is old. I tried to use KDevelop but it felt somewhat lacking and not as mature as other IDEs (or even text editors with plugins such as VS Code).\nJust as an example, I want my editor to have a nice color scheme that I like, and KDevelop doesn't have many of those. There aren't many on the internet made by the community either so you're kinda stuck with what the IDE offers.\nAlso, I found the autocompletion a tad \"bloated\". Like, when I start typing it pulls out all sorts of symbols and macros which I know nothing about (I'm guessing from the standard library).\nI switched to QtCreator after literally 3 minutes of use :/\n---\n+1\nInvestment in your tools multiplies productivity.\n---\nHow does CLion handle new and/or complex Code ? Last time i tried it it had problems with code that is not trivial.\n---\ncheckout ccls too. Which is a fork of cquery which makes use of C++17 features, has less third-party dependencies and slimmed-down code base.\n---\nDoesn't it run on Wine anyway?\n---\nCorrect, atom can be converted into an IDE but all of my compiling is done through the terminal\n---\nEmacs supports mice just fine, and is ready out of the box? Only change I've ever made from the defaults are a keybinding to run the current buffer through clang-format.\n---\nhttps://www.gnu.org/software/emacs/manual/html_node/emacs/Debuggers.html\n(That's a yes)\n---\nI want to like KDevelop, but I find the UI distractingly busy. QtCreator has one of the best UIs of any IDE I have ever used. I really wish it did the inline integration stuff that KDevelop did though.\n---\nWe'll see with clang 7.0.0 how things goes. I reported the bug but if it's in clang, it's harder to fix and updates are show. Also, it's good to know which appimage works, thanks.\n---\nVim is a very popular, and can be a very powerful, text editor. But, out of the box, it is only a text editor. There are numerous plugins to give it IDE like abilities.\n---\nVim is a command line based text editor. It is known for being beginner unfriendly, but really powerful when mastered. I'm personally okay with graphical based IDE.\n---\nWhat do you mean the dark theme is not the best? I'm working using the dark theme for years! Here's a screenshot of my dark setup\nI only selected the breeze dark scheme in the color theme, and tweaked a bit the color schema of the editor.\n---\nVim is an editor, so we are not comparing apples with apples. But if the user wants IDE capabilities in vim, Language Server Protocols are the way to go. For c++ in particular, cquery has been working really good for me, including completion in headers. Clangd has a bright future, but not as mature as cquery right now (I tried a few months ago).  \n\nThe only advantage of vim is the key bindings which almost every IDE and code editor supports nowadays anyway.\n\nNah, not close to reality, try to see a video on how to use vim by a power user.\n---\nWell... The parsing is done correctly using the compilation database, there's also a full configuration and cache editor, and the whole project configuration is done through it.\n---\nYou should try CMake plugin.\n---\nI have used both Qt Creator and VS Code fairly extensively, and can't think of a single advantage that Qt Creator has except for native integration of qmake and graphical .ui editing.\n---\nIts not IDE though\n---\nTry reinstalling them? I've never had this issue\n---\nYea that's the thing I was mentioning - last time I tried it was similar, but it was 6+ months ago. It may or may not have gotten better since then - not sure!\n---\nI mostly work with legacy code, but so far it is doing well, recognizing lambdas etc.\nSometimes coloring is broken for a while on a heavy-templated code i.e. using boost::msm.\nTo format the code I'm using clang-format anyway, but build-in formatter works just fine.\nHints about unused functions etc are not always accurate but extremely useful anyway.\nIn general just give it a try, it greatly improved my productivity working with the C++ code.\n---\nNever heard about it, and will check it out today! Seems much more active then cquery.\n---\nThanks, gotta give it a go for vs code.\nDeveloper himself maintains AUR packages (tagged + git), very nice!\n---\nVS Code has native integrated terminal. Atom can have it via a plugin afaik.\n---\nI'm not sure what you mean, you're entirely in control of the buttons and panels shown at any given time.\n---\nFunny thing is that when used without appImage everything seems to work. Might be a problem with the packaging.\n---\nyou can enable vi-keybindings in both qt creator and kdevelop to get a taste of it\n---\nYou are vastly understating it's perceived difficulty, no other editor feels the same, it is super weird if you haven't been exposed to something like that.  I would highly recommend he watch many tutorials on VIM to get used to it\n---\nThank you very much\n---\nThe color scheme of the text editor isn't to my liking. I like softer colors that match closer to a material palette.\n---\nfull configuration and cache editor\n\nFull configuration editor? What do you mean by that? My laptop is Darwin and their Darwin release crashes looking for a library not included in the package, so can't check it out right now.\n---\ncan't think of a single advantage that Qt Creator has \n\n\nCode completion is better (Microsoft C++ plugin never worked for me, both cquery and clangd are still incomplete).\nMemory view during debugging.\nLittle things like showing the type of auto variable.\n---\nI don't disagree with that. I'm still getting used to VS so take my opinion with a grain of salt\n---\nThese extensions (cpp extension, clangd, cquery) became much better in the past half-year, especially if you have compile_commands.json\n---\nYes, and it also has slightly more features. Checkout the wiki page\nI use it with emacs and it works damn well\n---\nYeah, it is possible to configure it to not be as bad, but by default it has a ton of stuff going on in the GUI that is at best marginally useful. The top menu is also a bit confusing, with what basically feels like 3 separate application menus present at the same time. The fact that it pulls in whatever you have for the main toolbar in Kate into the main toolbar in a confusing way doesn't help either. It makes a great deal of sense to have a \"New\" button in kate, but that in no way means I want one in my IDE.\n---\nI have two setup. One with the arch package and another with their git master, both are crashing. You might have an older clang on your distro?\n---\nThese young whippersnappers of today with their YouTube videos and what not.. Back in my day we just fired up vimtutor and learned our stuff hands on.\n---\nWell... You can download additional one (maybe even with the add-on downloader) or you can also roll your own, good thing there is a configuration editor in kate\n---\nYou can edit/add configuration variables for CMake cache with a GUI\n---\nAppImage should mask the version installed on my system shouldn't it? The crash happened both on Ubuntu 18.04 and 12.04.\nThe bug report I submitted contains a minimal file that reproduces the issue: https://bugs.kde.org/show_bug.cgi?id=396310\n---\nConfiguring a theme would take a long time to get everything looking good for me. How popular is KDeveloper compared to other IDEs? That would explain why there aren't they many good themes (at least for me) around.\n---\n"
     ]
    }
   ],
   "source": [
    "for comment in all_comments:\n",
    "    print(f\"{comment}\\n---\")"
   ]
  },
  {
   "cell_type": "code",
   "execution_count": 29,
   "metadata": {},
   "outputs": [
    {
     "output_type": "error",
     "ename": "PlanQueryLimitError",
     "evalue": "Error PLAN_QUERY_LIMIT: Request Throttled. You do not have enough queries left to perform this action. 141 queries are required, but you have 118 queries remaining.",
     "traceback": [
      "\u001b[0;31m---------------------------------------------------------------------------\u001b[0m",
      "\u001b[0;31mPlanQueryLimitError\u001b[0m                       Traceback (most recent call last)",
      "\u001b[0;32m<ipython-input-29-77204766fe19>\u001b[0m in \u001b[0;36m<module>\u001b[0;34m\u001b[0m\n\u001b[0;32m----> 1\u001b[0;31m \u001b[0mdict\u001b[0m\u001b[0;34m(\u001b[0m\u001b[0msorted\u001b[0m\u001b[0;34m(\u001b[0m\u001b[0mMonkeyLearnProductSentiment\u001b[0m\u001b[0;34m.\u001b[0m\u001b[0mkeyword_extractor_total\u001b[0m\u001b[0;34m(\u001b[0m\u001b[0mall_comments\u001b[0m\u001b[0;34m)\u001b[0m\u001b[0;34m.\u001b[0m\u001b[0mitems\u001b[0m\u001b[0;34m(\u001b[0m\u001b[0;34m)\u001b[0m\u001b[0;34m,\u001b[0m \u001b[0mkey\u001b[0m\u001b[0;34m=\u001b[0m\u001b[0;32mlambda\u001b[0m \u001b[0mitem\u001b[0m\u001b[0;34m:\u001b[0m \u001b[0mitem\u001b[0m\u001b[0;34m[\u001b[0m\u001b[0;36m1\u001b[0m\u001b[0;34m]\u001b[0m\u001b[0;34m)\u001b[0m\u001b[0;34m)\u001b[0m\u001b[0;34m\u001b[0m\u001b[0;34m\u001b[0m\u001b[0m\n\u001b[0m",
      "\u001b[0;32m~/Development/recommeddit-backend/MonkeyLearnProductSentiment.py\u001b[0m in \u001b[0;36mkeyword_extractor_total\u001b[0;34m(data)\u001b[0m\n\u001b[1;32m     82\u001b[0m \u001b[0;32mdef\u001b[0m \u001b[0mkeyword_extractor_total\u001b[0m\u001b[0;34m(\u001b[0m\u001b[0mdata\u001b[0m\u001b[0;34m)\u001b[0m\u001b[0;34m:\u001b[0m\u001b[0;34m\u001b[0m\u001b[0;34m\u001b[0m\u001b[0m\n\u001b[1;32m     83\u001b[0m     \u001b[0mmodel_id\u001b[0m \u001b[0;34m=\u001b[0m \u001b[0;34m\"ex_YCya9nrn\"\u001b[0m\u001b[0;34m\u001b[0m\u001b[0;34m\u001b[0m\u001b[0m\n\u001b[0;32m---> 84\u001b[0;31m     \u001b[0mresult\u001b[0m \u001b[0;34m=\u001b[0m \u001b[0mml\u001b[0m\u001b[0;34m.\u001b[0m\u001b[0mextractors\u001b[0m\u001b[0;34m.\u001b[0m\u001b[0mextract\u001b[0m\u001b[0;34m(\u001b[0m\u001b[0mmodel_id\u001b[0m\u001b[0;34m,\u001b[0m \u001b[0mdata\u001b[0m\u001b[0;34m)\u001b[0m\u001b[0;34m\u001b[0m\u001b[0;34m\u001b[0m\u001b[0m\n\u001b[0m\u001b[1;32m     85\u001b[0m \u001b[0;34m\u001b[0m\u001b[0m\n\u001b[1;32m     86\u001b[0m     \u001b[0mtotal\u001b[0m \u001b[0;34m=\u001b[0m \u001b[0mdefaultdict\u001b[0m\u001b[0;34m(\u001b[0m\u001b[0mint\u001b[0m\u001b[0;34m)\u001b[0m\u001b[0;34m\u001b[0m\u001b[0;34m\u001b[0m\u001b[0m\n",
      "\u001b[0;32m~/.virtualenvs/recommeddit/lib/python3.9/site-packages/monkeylearn/extraction.py\u001b[0m in \u001b[0;36mextract\u001b[0;34m(self, model_id, data, production_model, batch_size, retry_if_throttled, extra_args)\u001b[0m\n\u001b[1;32m     48\u001b[0m             raw_response = self.make_request('POST', url, data_dict,\n\u001b[1;32m     49\u001b[0m                                              retry_if_throttled=retry_if_throttled)\n\u001b[0;32m---> 50\u001b[0;31m             \u001b[0mresponse\u001b[0m\u001b[0;34m.\u001b[0m\u001b[0madd_raw_response\u001b[0m\u001b[0;34m(\u001b[0m\u001b[0mraw_response\u001b[0m\u001b[0;34m)\u001b[0m\u001b[0;34m\u001b[0m\u001b[0;34m\u001b[0m\u001b[0m\n\u001b[0m\u001b[1;32m     51\u001b[0m \u001b[0;34m\u001b[0m\u001b[0m\n\u001b[1;32m     52\u001b[0m         \u001b[0;32mreturn\u001b[0m \u001b[0mresponse\u001b[0m\u001b[0;34m\u001b[0m\u001b[0;34m\u001b[0m\u001b[0m\n",
      "\u001b[0;32m~/.virtualenvs/recommeddit/lib/python3.9/site-packages/monkeylearn/response.py\u001b[0m in \u001b[0;36madd_raw_response\u001b[0;34m(self, raw_response)\u001b[0m\n\u001b[1;32m     74\u001b[0m         \u001b[0mself\u001b[0m\u001b[0;34m.\u001b[0m\u001b[0mraw_responses\u001b[0m\u001b[0;34m.\u001b[0m\u001b[0mappend\u001b[0m\u001b[0;34m(\u001b[0m\u001b[0mraw_response\u001b[0m\u001b[0;34m)\u001b[0m\u001b[0;34m\u001b[0m\u001b[0;34m\u001b[0m\u001b[0m\n\u001b[1;32m     75\u001b[0m         \u001b[0;32mif\u001b[0m \u001b[0mraw_response\u001b[0m\u001b[0;34m.\u001b[0m\u001b[0mstatus_code\u001b[0m \u001b[0;34m!=\u001b[0m \u001b[0mrequests\u001b[0m\u001b[0;34m.\u001b[0m\u001b[0mcodes\u001b[0m\u001b[0;34m.\u001b[0m\u001b[0mok\u001b[0m\u001b[0;34m:\u001b[0m\u001b[0;34m\u001b[0m\u001b[0;34m\u001b[0m\u001b[0m\n\u001b[0;32m---> 76\u001b[0;31m             \u001b[0mself\u001b[0m\u001b[0;34m.\u001b[0m\u001b[0mraise_for_status\u001b[0m\u001b[0;34m(\u001b[0m\u001b[0mraw_response\u001b[0m\u001b[0;34m)\u001b[0m\u001b[0;34m\u001b[0m\u001b[0;34m\u001b[0m\u001b[0m\n\u001b[0m\u001b[1;32m     77\u001b[0m \u001b[0;34m\u001b[0m\u001b[0m\n\u001b[1;32m     78\u001b[0m     \u001b[0;32mdef\u001b[0m \u001b[0mraise_for_status\u001b[0m\u001b[0;34m(\u001b[0m\u001b[0mself\u001b[0m\u001b[0;34m,\u001b[0m \u001b[0mraw_response\u001b[0m\u001b[0;34m)\u001b[0m\u001b[0;34m:\u001b[0m\u001b[0;34m\u001b[0m\u001b[0;34m\u001b[0m\u001b[0m\n",
      "\u001b[0;32m~/.virtualenvs/recommeddit/lib/python3.9/site-packages/monkeylearn/response.py\u001b[0m in \u001b[0;36mraise_for_status\u001b[0;34m(self, raw_response)\u001b[0m\n\u001b[1;32m     95\u001b[0m             \u001b[0mexception_kwargs\u001b[0m\u001b[0;34m[\u001b[0m\u001b[0;34m'seconds_to_wait'\u001b[0m\u001b[0;34m]\u001b[0m \u001b[0;34m=\u001b[0m \u001b[0mseconds_to_wait\u001b[0m\u001b[0;34m\u001b[0m\u001b[0;34m\u001b[0m\u001b[0m\n\u001b[1;32m     96\u001b[0m \u001b[0;34m\u001b[0m\u001b[0m\n\u001b[0;32m---> 97\u001b[0;31m         \u001b[0;32mraise\u001b[0m \u001b[0mexception_class\u001b[0m\u001b[0;34m(\u001b[0m\u001b[0;34m**\u001b[0m\u001b[0mexception_kwargs\u001b[0m\u001b[0;34m)\u001b[0m\u001b[0;34m\u001b[0m\u001b[0;34m\u001b[0m\u001b[0m\n\u001b[0m",
      "\u001b[0;31mPlanQueryLimitError\u001b[0m: Error PLAN_QUERY_LIMIT: Request Throttled. You do not have enough queries left to perform this action. 141 queries are required, but you have 118 queries remaining."
     ]
    }
   ],
   "source": [
    "dict(sorted(MonkeyLearnProductSentiment.keyword_extractor_total(all_comments).items(), key=lambda item: item[1]))"
   ]
  },
  {
   "cell_type": "code",
   "execution_count": null,
   "metadata": {},
   "outputs": [],
   "source": [
    "csv_filename = \"all_comments.csv\"\n",
    "df_csv = pd.read_csv(csv_filename)\n",
    "df = pd.DataFrame({query: all_comments})\n",
    "df_csv[query] = df[query]\n",
    "df_csv.to_csv(csv_filename, index=False)"
   ]
  },
  {
   "cell_type": "code",
   "execution_count": null,
   "metadata": {},
   "outputs": [],
   "source": []
  }
 ]
}