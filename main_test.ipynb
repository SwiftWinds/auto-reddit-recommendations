{
 "metadata": {
  "language_info": {
   "codemirror_mode": {
    "name": "ipython",
    "version": 3
   },
   "file_extension": ".py",
   "mimetype": "text/x-python",
   "name": "python",
   "nbconvert_exporter": "python",
   "pygments_lexer": "ipython3",
   "version": "3.9.1-final"
  },
  "orig_nbformat": 2,
  "kernelspec": {
   "name": "recommeddit",
   "display_name": "recommeddit",
   "language": "python"
  }
 },
 "nbformat": 4,
 "nbformat_minor": 2,
 "cells": [
  {
   "cell_type": "code",
   "execution_count": 41,
   "metadata": {},
   "outputs": [],
   "source": [
    "import sys\n",
    "import search\n",
    "import comments\n",
    "import markdown_to_plaintext"
   ]
  },
  {
   "cell_type": "code",
   "execution_count": 42,
   "metadata": {},
   "outputs": [],
   "source": [
    "query = \"git merge tool\""
   ]
  },
  {
   "cell_type": "code",
   "execution_count": 43,
   "metadata": {},
   "outputs": [
    {
     "output_type": "stream",
     "name": "stdout",
     "text": [
      "['https://www.reddit.com/r/git/comments/6hjm92/best_free_git_merge_tool/', 'https://www.reddit.com/r/git/comments/icptpk/recommend_a_merge_tool/', 'https://www.reddit.com/r/emacs/comments/dvs1jt/emacs_is_the_best_merge_tool_for_git/', 'https://www.reddit.com/r/webdev/comments/5vrgay/whats_your_favorite_merge_tool_to_resolve/', 'https://www.reddit.com/r/git/comments/ke2qg9/mergetools_stop_doing_threeway_merges/', 'https://www.reddit.com/r/webdev/comments/407pqx/which_diff_and_merge_tool_do_you_use_and_why/', 'https://www.reddit.com/r/vim/comments/902oj5/vimdiffconflicts_a_better_vimdiff_git_mergetool/', 'https://www.reddit.com/r/emacs/comments/4j4rle/i_figure_it_out_how_to_use_emacsclient_as_gits/', 'https://www.reddit.com/r/vim/comments/b0yur5/how_to_close_vimdiff_without_merging_and_use_git/', 'https://www.reddit.com/r/vim/comments/6dftka/use_vimdiff_as_git_mergetool/']\nUser: None\n"
     ]
    }
   ],
   "source": [
    "# search google reddit.com CSE for \"best <query name>\"\n",
    "reddit_urls = search.returnlinks(query)\n",
    "print(reddit_urls)"
   ]
  },
  {
   "cell_type": "code",
   "execution_count": 22,
   "metadata": {},
   "outputs": [],
   "source": [
    "# resolve reddit URLs to comments\n",
    "reddit = comments.connect()\n",
    "reddit_post_comments = []\n",
    "for reddit_url in reddit_urls:\n",
    "    reddit_post_comments.append(comments.get_comments(reddit, reddit_url))"
   ]
  },
  {
   "cell_type": "code",
   "execution_count": 23,
   "metadata": {},
   "outputs": [],
   "source": [
    "# flatten list of lists of comments\n",
    "all_comments = [item for sublist in reddit_post_comments for item in sublist]"
   ]
  },
  {
   "cell_type": "code",
   "execution_count": 24,
   "metadata": {},
   "outputs": [],
   "source": [
    "# get keys of all_comments\n",
    "all_comments = [*all_comments]"
   ]
  },
  {
   "cell_type": "code",
   "execution_count": 34,
   "metadata": {},
   "outputs": [
    {
     "output_type": "execute_result",
     "data": {
      "text/plain": [
       " markers and OP didn't like that, in fact he said:\\n\\n> Mergetools exist because nobody wants to edit conflict markers by hand.\\n\\nWhich I don't agree with. If other tools remove the markers, they should at least give the option to show them (exactly as git presents them).\\n\\nFortunately the vimdiff* ones do. In fact, I wrote vimdiff3, which is basically the file with the markers plus some hints.\",\n",
       " 'I\\'m not sure diffconflicts is a name that would allow recognition. So, I\\'m the guy https://trunkbaseddevelopment.com. Say that and there\\'s a good 50:50 chance the average developer with 10 years experience knows what is being referred to. Say GitHub-Flow, and there\\'s a 90% chance the same 10-yr developer knows what is being referred to. Same for Git-Flow.  \\n\\nHow about something working in \"Low\" (adjective) - \"Low Diff Conflict\", \"Low Diff Merging\" \"Low Merging\", \"LoMerge\". Or Minimal/Min instead of Low/Lo.',\n",
       " 'Found time today so I am posting it now. The image with vanilla Emacs + Magit is [here](https://i.imgur.com/UrZObkM.png). The left is the local Head, and the right is the local branch. I am not 100% sure about the last sentence so I am going to search a little bit more to understand it.',\n",
       " \"That sounds like a solid workflow and a great final step to ensure you didn't miss anything from either side.\\n\\nI think my ideal would be a two-way diff between each half of MERGED with LOCAL and REMOTE on either side of that (so four windows total) but that's a lot to fit in a terminal which is why [diffconflicts](https://github.com/whiteinge/diffconflicts) opted to show the latter three in a separate tab page. I think a GUI tool could handle all that nicely though in a single window.\",\n",
       " \"> since not a single mergetool removes those markers (at least from the git side).\\n\\nMy guess is that's just inertia from the default since several mergetools do remove or hide them (outside of the git invocation scripts). It'll be interesting to watch the discussion on the mailing list thread you started.\\n\\n> You probably would not like it\\n\\nThanks for the explanation. You're right; I don't like it. :)\",\n",
       " \"Right. There's a screenshot of what you're describing in the comparison section. You're left with either diffing `LOCAL` against `REMOTE` and re-resolving conflicts that Git already resolved or editing conflict markers by hand. Both of which this post is aiming to avoid.\",\n",
       " 'Ive never seen the markers in my vimdiff, but then I’ve never made heads or tails of the 4 way merge. Ill take a look at vimdiff3.',\n",
       " 'Perfect writeup for P4Merge.\\n\\nHow about Express instead Low/Min ?',\n",
       " 'You\\'re very right about Git-Flow.\\n\\nThanks for the suggestions. What mental image does \"low\" evoke? I\\'m not sure I see the association. Low like in \"low level\" or something else?\\n\\nHow about \"split\"? Perhaps \"Split Diff Conflict\" or \"Split Conflicts\" or \"Split Merging\"?',\n",
       " \"Awesome! That looks exactly right. Thank you for making that screenshot; I added it to the post. I don't understand that sentence either but now I want to do some code-diving to see how they're setting this up. This is the first tool aside from mine that I've seen do this. Very cool. Thanks again.\",\n",
       " 'You are not supposed to diff `LOCAL` against `REMOTE`; they are there just for reference.\\n\\nYou are supposed to edit `MERGED`, and resolve the conflicts there. Yes, that requires editing conflict markers by hand.\\n\\nIn all mergetools you are supposed to edit the conflict markers.\\n\\nIn theory you could configure `git mergetool` to automatically remove the conflict markers, but you would need to choose which code to leave (local, remote, or base), which in my experience vary on every \"merge\".\\n\\nI prefer to choose chunk by chunk.',\n",
       " 'Weird. The first image in the post shows [vimdiff with the markers](https://www.eseth.org/2020/mergetools/vimdiff-three-way.png) (bottom pane).',\n",
       " 'Examples of low that strike a mental image: \"low effort\", \"Low Fi\", \"low profile\". And yes, even \"low level\". There\\'s a connotation of \"good\" or \"efficient\" there. I\\'m not sure \"split <something>\" is snappy or attractive, or alluding to good or efficient or better or quicker.',\n",
       " \"You are welcome, If this helps you, you can ask in magit's gitter and ask the guys there. They are always happy to help!\",\n",
       " \"> In all mergetools you are supposed to edit the conflict markers.\\n\\nNah, several of the graphical tools don't show them at all. Conflict markers are just one way to visualize differences.\\n\\n> In theory you could configure git mergetool to automatically remove the conflict markers\\n\\n[I did!](https://github.com/whiteinge/diffconflicts) (or [as a shell script](https://github.com/whiteinge/dotfiles/blob/master/bin/diffconflicts).)\\n\\n> you would need to choose which code to leave (local, remote, or base)\\n\\nI leave those exactly intact because they are very useful as a reference. I instead create two new temporary files (left conflict, and right conflict) and, if the merge is successful, eventually overwrite MERGED with the result.\\n\\n> I prefer to choose chunk by chunk.\\n\\nThat's cool. We can still be friends.\",\n",
       " '> Nah, several of the graphical tools don\\'t show them at all.\\n\\nI mean the scripts in \"/usr/lib/git-core/mergetools/\". All of them pass unedited `MERGED`. What each tool decides to do with that afterwards is a different story.\\n\\n> I did! (or as a shell script.)\\n\\nNo, you created a separate tool. I mean modify `git mergetool` itself.\\n\\n> I leave those exactly intact because they are very useful as a reference.\\n\\nNot true. I looked at your code. You have two versions of `MERGED`, both with markers removed.\\n\\n1. The left pane is `MERGED` with all markers removed, except the equivalent of the \"local\" side.\\n2. The right pane is `MERGED` with all markers removed, except the equivalent of the \"remote\" side.\\n\\n> That\\'s cool. We can still be friends.\\n\\nFriends don\\'t let friends remove conflict markers :p',\n",
       " '> No, you created a separate tool. I mean modify git mergetool itself.\\n\\nI feel like we\\'re splitting hairs here. The shell script changes you submitted to the mailing list are almost identical to the shell script in my original implementation, except I don\\'t overwrite LOCAL or REMOTE. But you are right that it would be useful to do this upstream in order to influence the approach downstream mergetools take.\\n\\n> All of them pass unedited MERGED. What each tool decides to do with that afterwards is a different story.\\n> [...]\\n> You have two versions of MERGED, both with markers removed.\\n\\nLook again. Neither one of my implementations modify MERGED, LOCAL, REMOTE, or BASE. They both pass all four of those files, unedited, to vimdiff. The plugin then splits MERGED as two _unsaved_ buffers, and the shell script creates two, new temporary files.\\n\\n> The left pane is MERGED with all markers removed, except the equivalent of the \"local\" side.\\n\\nNot quite. The \"left\" side of MERGED isn\\'t the same thing as LOCAL. They\\'re not equivalent which is the main point. LOCAL is the state of the file _before_ the merge.\\n\\n> Friends don\\'t let friends remove conflict markers :p\\n\\nIn that case think of it not as removing the conflict markers but rather displaying them in a different way. We\\'re still friends.',\n",
       " '> The shell script changes you submitted to the mailing list are almost identical to the shell script in my original implementation, except I don\\'t overwrite LOCAL or REMOTE.\\n\\nYou don\\'t use LOCAL or REMOTE.\\n\\n> But you are right that it would be useful to do this upstream in order to influence the approach downstream mergetools take.\\n\\nThat\\'s the point. This way **all** other mergetools would benefit.\\n\\n> They both pass all four of those files, unedited, to vimdiff.\\n\\nIt doesn\\'t matter if you modify the file or not; you modify the buffer, so the user is presented with a modified version of `MERGED` without the markers.\\n\\n> The \"left\" side of MERGED isn\\'t the same thing as LOCAL.\\n\\nI know they are not, but with my patch they are.\\n\\nDo you know how to try my patch?',\n",
       " '> You don\\'t use LOCAL or REMOTE.\\n> [...]\\n> Do you know how to try my patch?\\n\\nYes I know how. However I _do_ use LOCAL and REMOTE and so your patch is a worse version of what I\\'m already using and it would be a worse upstream mergetool for everyone.\\n\\nThe blog post mentions why LOCAL and REMOTE are useful _in addition_ to a split MERGED. The diffconflicts plugin accepts LOCAL and REMOTE as arguments in order to display them in a new tabpage on demand.\\n\\n> with my patch [the] \"left\" side of MERGED [is] the same thing as LOCAL.\\n\\nThat makes things worse because we already have LOCAL and we already have the left side of MERGED. We don\\'t need two copies of the same result. It would be nice to have both a copy of the file before the merge and a copy of the file after the conflict resolution. I\\'m not advocating for replacing LOCAL; I\\'m advocating for not including it in the default diff or during the manual resolution step.\\n\\nWe may be talking past each other a bit so this is probably a good place to pause. We\\'re friends and I owe you a beer at the next non-pandemic\\'d Vim conference for a deep conversation and for getting a dialog going upstream.\\n\\nCheers.',\n",
       " \"> However I do use LOCAL and REMOTE\\n\\nDo you? Your blog post doesn't mention how to view those files.\\n\\n> your patch is a worse version of what I'm already using and it would be a worse upstream mergetool for everyone.\\n\\nName one problem.\\n\\n> That makes things worse because we already have LOCAL and we already have the left side of MERGED.\\n\\nYou have the left side of MERGED. The rest of the world doesn't.\",\n",
       " '[deleted]',\n",
       " \"Beyond Compare. It's not free but from trying many tools I like its feature set the best.\",\n",
       " 'Kaleidoscope ',\n",
       " 'p4merge. Got used to it when perforce was our version control. ',\n",
       " 'Pure command line for me.',\n",
       " \"There's a nice package for Atom called [merge-conflicts](https://atom.io/packages/merge-conflicts) that I usually use.\",\n",
       " 'meld works for me',\n",
       " 'deleted ',\n",
       " 'Diffuse and WinMerge.',\n",
       " 'I use opendiff.  \\n\\nNo specific reason besides it is what I have been using since I started working with xcode.',\n",
       " \"I usually wind up on diffchecker. So far I haven't needed that much functionality in a diff tool, so I just google it real quick.\",\n",
       " 'There is a diff plugin for sublime text that works well (can be found through package control)',\n",
       " 'I prefer the command line but source tree is nice',\n",
       " \"Guy I work with wrote this, and it's nice. https://github.com/scottgonzalez/pretty-diff\",\n",
       " 'For git merge conflicts, I usually give up and just edit the file manually.',\n",
       " \"Vim + Fugitive.\\n\\nI used to use kdiff and then Kaleidoscope. Vim isn't as pretty, but it's nice to do everything in the editor now.\",\n",
       " \"Yeahhh! The Jetbrains IDEs come with the most fabulous diff tool ever devised. The differences are really clear, and when you're comparing two files you can make direct edits to both. I've told them they should sell it as a separate product but they want to focus on IDEs. Download a free trial and give it a whirl!\",\n",
       " 'Beyond Compare is amazing.',\n",
       " \"Beyond Compare is a great tool, but I don't really use it for diffs.\\n\\nI work at a place which still does manual deployments for a specific product (lame), and Beyond Compare comes in really handy for them. But the diff tool in Webstorm is just too convenient.\",\n",
       " 'Same here - Perforce was the first version control I ever used, and I just got used to the way p4diff lays out the versions.',\n",
       " \"Same here. I use `git diff`with colors configured for git. I didn't even realize that there were other tools for handling diffs. I'm not opposed to trying something new; I just haven't. I could see something more guided than git's output being useful for files that undergo heavy parallel churn.\",\n",
       " \"This. I swear by it and on it's own it has converted many a co-worker to using JetBrains IDEs themselves.\",\n",
       " \"Disclosure: self post.\\n\\nI've been using a \\\\`sed\\\\` shell script to do this for several years and decided to make it into a standalone Vim plugin instead. I find it makes identifying and fixing merge conflicts much, much easier than with other Vim tools that try to use the default three-way diff.\",\n",
       " \"Looks cool. I never really liked the three-way diff, so I'm gonna try this out. You might want to escape the quotes in the `git config --global mergetool.diffconflicts.cmd 'vim -c 'DiffConflicts' $MERGED $BASE $LOCAL $REMOTE'\\n` command listed in the installation section though.\",\n",
       " \"I've been using your [diffconflicts script](https://github.com/whiteinge/dotfiles/blob/master/bin/diffconflicts) for quite some time and I really like it! Thanks for turning it into a plugin, will try it soon.\",\n",
       " 'I usually end up using [meld](http://meldmerge.org/) for conflicts, this looks handy though, good job',\n",
       " 'Is this basically the same as doing the following?\\n\\n- Run `git mergetool` to open a 3-way vimdiff.\\n- Run `:%diffget LO` (from the merged copy) to make the merged copy identical to `LOCAL`.\\n- Close (`CTRL-w c`) `LOCAL` and `BASE`, leaving a 2-way diff between the merged copy (identical to `LOCAL`) and `REMOTE`.\\n- Modify the merged copy as necessary, save, and quit.\\n\\nThis is what I often do.',\n",
       " \"I used to use this for years! Glad to see it standalone! I even added perforce support, I'll see if I can clean it up and open a PR.\\n\\nHowever, I don't use it anymore because it doesn't work well under Windows subsystem for linux (running Ubuntu in windows). I think because it's lacking cygpath. (Worked well under cygwin.)\",\n",
       " 'Looks cool, but how if this any easier than three-way diff and diffput/diffget commands? \\n\\nI take that your mergetool is mainly manual, so for big conflicts it would be very cumbersome to get through all the differences, right?',\n",
       " 'is there a way to bind the keys \"2\" and \"3\" to \":diffget 2<cr>\" and \":diffget 3<cr>\" but only if you are in diff-view?',\n",
       " 'does not tell what it does :/',\n",
       " 'Good call. Thanks.',\n",
       " \"That's awesome to hear! :-)  The script hasn't seen much change over the years so I don't expect the plugin will either, but hopefully this is at least easier to install.\",\n",
       " \"I've been using that script too, thanks for it.\",\n",
       " \"Very close! LOCAL and REMOTE don't contain the result of anything that Git was automatically able to merge which is why this plugin uses the file with conflict markers instead.\\n\\nThe goal is to get the benefits of a two-way diff of LOCAL & REMOTE plus the benefits of Git's automatic merge. Sometimes both ways will produce an identical diff but not always. My example script doesn't showcase that difference; I'll think of a way to add it.\",\n",
       " \"That would be cool to see if you find some time.\\n\\nInteresting about WSL. I've been testing those waters recently. It's not quite there but close. I hope they keep pushing it forward.\",\n",
       " 'This is a mergetool like any other -- no more or less manual than usual. And you use `:diffput`/`:diffget` in exactly the usual way. The README directly tries to address your question about why three-way merges are hard to work with.',\n",
       " \"I'm not sure if there's a more robust way to detect when Vim is in diff mode but in my vimrc I use this:\\n\\n    if ! &diff\\n       ...stuff...\\n    endif\",\n",
       " \"You're right, the README could use a tl;dr. Added, thanks.\",\n",
       " '/u/whiteinge',\n",
       " '\\\\o\\\\ |o| /o/',\n",
       " '     |   |   |\\n    /\\\\  /\\\\   /\\\\',\n",
       " 'Just use magit everywhere: `alias magit=\"/Applications/Emacs.app/Contents/MacOS/bin/emacsclient --eval \\\\\"(magit-status)\\\\\";open -a Emacs\"`',\n",
       " '[deleted]',\n",
       " 'Few days ago, I also got some needs of emacs as git mergetool and worte a script: https://github.com/zeph1e/.emacs.d/blob/master/misc/ediff\\n\\nThe thing what you need in gitconfig and init scripts are written in comment.',\n",
       " \"But this code wouldn't close all frames or something like that?\",\n",
       " 'No',\n",
       " \"`:help :cq` should tell Git the merge didn't happen.\",\n",
       " 'Also git reset --merge if want to reset the merge and try again',\n",
       " 'There are two ways of telling Git that the merge was unsuccessful.- when \"mergetool.trustExitCode = false\", it checks if MERGED file was modified after the mergetool process exits.\\n\\n\\\\- when \"mergetool.trustExitCode = true\", it checks exit code of a mergetool process.\\n\\n&#x200B;\\n\\n\":cq\", exits and returns non-zero exit code. So it would work when \"mergetool.trustExitCode = true\" in your \\\\~/.gitconfig.\\n\\n&#x200B;\\n\\nIf you want to reset merge to the initial state and restore accidentally lost conflict markers:\\n\\n`git checkout --conflict=diff3 {file}`\\n\\n`git checkout --conflict=merge {file} # if you\\'re using 2-way diff conflict markers`',\n",
       " 'thanks, worked like a charm',\n",
       " \"thanks, great addition. Now i can reset the file if i've messed up one file instead of abort the merge/rebase and start all over again. \\n\\nI think mergetool.trustExitCode is on true by default (i'm using git version 2.19.1). I don't see anything in the global or local config.\",\n",
       " '\\nBe careful, this only works if in your git config you have the variable mergetool.<tool>.trustExitCode is set to true',\n",
       " \"If you're using vimdiff as a mergetool, which is quite awkward, you might be intersting checking out plugin I've created recently:\\n\\n[https://github.com/samoshkin/vim-mergetool](https://github.com/samoshkin/vim-mergetool)  \\n\\n\\nOr check out other alternatives:  \\n[vim-fugitive](https://github.com/tpope/vim-fugitive) :Gdiff command\\n\\n[whiteinge/diffconflicts](https://github.com/whiteinge/diffconflicts). \\n\\n[sjl/splice.vim](https://github.com/sjl/splice.vim).\",\n",
       " \"Good point but OP's problem precisely seems to be that he has that option set to `true` which makes Git incorrectly assume the merge is done because Vim exits with `0`.\\n\\nWith such a setup, the only way to tell Git that the merge is not done is to quit Vim with a non-zero exit code. This is *exactly* the use case that lead to the addition of `:cq`.\",\n",
       " 'I can\\'t stand the four window split in newer versions of Vim. I keep it as the three window split with the following in my `.gitconfig`.\\n\\n    [merge]\\n      tool = vimdiff3\\n    [mergetool \"vimdiff3\"]\\n      cmd = vim -f -d \\\\\"$LOCAL\\\\\" \\\\\"$MERGED\\\\\" \\\\\"$REMOTE\\\\\"',\n",
       " 'Can I replace default vimdiff with fugitives :Gdiff?',\n",
       " 'This is my go-to reference to resolve conflicts on vim:\\n\\nhttp://vimcasts.org/episodes/fugitive-vim-resolving-merge-conflicts-with-vimdiff/',\n",
       " 'I like [vim-conflicted](https://github.com/christoomey/vim-conflicted).',\n",
       " 'I find vimdiff horribly clunky so I just use a GUI diff tool.',\n",
       " \"Author here. Thanks for posting, OP!\\n\\nI slapped that little `sed` script together thinking Git would get more/better output options for the result of a post-merge conflict. But that was seven years ago now. It seems my disdain for manually editing conflict markers is not widely shared. :-)\\n\\nThe thing that surprises me the most is 98% of all conflict resolution boils down to a two-way diff of _only_ what's contained in the conflict markers. I almost never need content from a pre-merge version of either parent. Of course I do often care about the _history_ leading up to each pre-merge parent because that's how you make sense of what's in the conflict markers (and Fugitive makes that super easy to find). A three-way diff has always struck me as an inherently flawed approach because once you understand the reason (the history) of the conflict you have everything you need to resolve it already within the conflict markers.\\n\\nThat wiki page is slightly out of date. (I'll update it now.) The latest version of that [diffconflicts script](https://github.com/whiteinge/dotfiles/blob/master/bin/diffconflicts) is buried in my dotfiles. It might be time to break it out into its own repo...\",\n",
       " 'This is a useful tip for anyone using Neovim, which, for me, has recently been failing to show the 4th window.',\n",
       " \"Which one, if I may ask? I've had mixed luck with meld and was looking to switch it up.\",\n",
       " 'FileMerge on Mac OS X. Currently testing P4Merge but it seems too fancy for me.']"
      ]
     },
     "metadata": {},
     "execution_count": 34
    }
   ],
   "source": [
    "all_comments"
   ]
  },
  {
   "cell_type": "code",
   "execution_count": 16,
   "metadata": {},
   "outputs": [],
   "source": [
    "# convert from markdown to plaintext\n",
    "all_comments = [markdown_to_plaintext.unmark(comment) for comment in all_comments]"
   ]
  },
  {
   "cell_type": "code",
   "execution_count": 18,
   "metadata": {},
   "outputs": [
    {
     "output_type": "execute_result",
     "data": {
      "text/plain": [
       "'Perforce merge is very nice.  It is packaged together with their other stuff but it really is a standalone tool.'"
      ]
     },
     "metadata": {},
     "execution_count": 18
    }
   ],
   "source": [
    "all_comments[3]"
   ]
  },
  {
   "cell_type": "code",
   "execution_count": 20,
   "metadata": {},
   "outputs": [],
   "source": [
    "for reddit_url in reddit_urls:\n",
    "    reddit_comments.append(get_comments.get_comments(reddit, reddit_url))"
   ]
  },
  {
   "cell_type": "code",
   "execution_count": 29,
   "metadata": {},
   "outputs": [
    {
     "output_type": "execute_result",
     "data": {
      "text/plain": [
       "['`git merge` works pretty well. \\n\\nBut seriously, its not terribly hard to resolve conflicts and probably worth learning. I tried to find tools before and never found one I super enjoyed. ',\n",
       " 'Maybe this could be: http://meldmerge.org',\n",
       " '    [merge]\\n    tool = vimdiff',\n",
       " 'Perforce merge is very nice.  It is packaged together with their other stuff but it really is a standalone tool.',\n",
       " \"Kdiff is my preferred tool. You don't need much with a merge tool just an A vs B vs C view and the ability to select and edit in the tool. \",\n",
       " \"Beyond Compare is a good tool for merging. It provides a graphical user inetrface for merging. I don't know whether its free though. \",\n",
       " \"Install VS Code and install Git Lens extension. You'll never look back!\",\n",
       " \"I use PowerShell with Git Posh, and P4Merge - I think it's easy better than Git Bash. \\n\\nA made a script that will install it with an SSH login (if you want). You can run [it from here](http://bakgaard.net/archives/19). \",\n",
       " 'You need to look for a tool supporting 3-way merge. This will automatically solve you like 80% of your merge conflicts. I use Kdiff3 http://kdiff3.sourceforge.net/',\n",
       " 'I just wish git could easily merge and diff non-deterministic XML files :(',\n",
       " 'vimdiff is underrated!',\n",
       " \"It's not, but it's what I have at work and I'd recommend it.\",\n",
       " \"Haha, I'm sure there's something like that out there.\",\n",
       " \"Any idea what's the cost if I want to purchase? It looks like I am in trial period then.\",\n",
       " \"Looks like $60: https://www.scootersoftware.com/features.php?zz=pricing\\n\\nApparently only the pro edition does 3-way merging. \\n\\nI would probably just use KDiff or something if work didn't pay for BC.\",\n",
       " 'Ohh. Ok. Thanks for info. I will check this link.']"
      ]
     },
     "metadata": {},
     "execution_count": 29
    }
   ],
   "source": [
    "[*reddit_comments[0]]"
   ]
  },
  {
   "cell_type": "code",
   "execution_count": null,
   "metadata": {},
   "outputs": [],
   "source": []
  }
 ]
}